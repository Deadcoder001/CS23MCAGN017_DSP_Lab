{
 "cells": [
  {
   "cell_type": "code",
   "execution_count": 8,
   "metadata": {},
   "outputs": [
    {
     "name": "stderr",
     "output_type": "stream",
     "text": [
      "C:\\Users\\resha\\AppData\\Local\\Temp\\ipykernel_13884\\265554930.py:2: DeprecationWarning: \n",
      "Pyarrow will become a required dependency of pandas in the next major release of pandas (pandas 3.0),\n",
      "(to allow more performant data types, such as the Arrow string type, and better interoperability with other libraries)\n",
      "but was not found to be installed on your system.\n",
      "If this would cause problems for you,\n",
      "please provide us feedback at https://github.com/pandas-dev/pandas/issues/54466\n",
      "        \n",
      "  import pandas as pd\n"
     ]
    }
   ],
   "source": [
    "import numpy as np\n",
    "import pandas as pd\n",
    "import matplotlib.pyplot as plt\n",
    "import seaborn as sns"
   ]
  },
  {
   "cell_type": "code",
   "execution_count": 9,
   "metadata": {},
   "outputs": [
    {
     "name": "stdout",
     "output_type": "stream",
     "text": [
      "       Date/Time  Temp_C  Dew Point Temp_C  Rel Hum_%  Wind Speed_km/h  \\\n",
      "0  1/1/2012 0:00    -1.8              -3.9         86                4   \n",
      "1  1/1/2012 1:00    -1.8              -3.7         87                4   \n",
      "2  1/1/2012 2:00    -1.8              -3.4         89                7   \n",
      "3  1/1/2012 3:00    -1.5              -3.2         88                6   \n",
      "4  1/1/2012 4:00    -1.5              -3.3         88                7   \n",
      "5  1/1/2012 5:00    -1.4              -3.3         87                9   \n",
      "6  1/1/2012 6:00    -1.5              -3.1         89                7   \n",
      "7  1/1/2012 7:00    -1.4              -3.6         85                7   \n",
      "8  1/1/2012 8:00    -1.4              -3.6         85                9   \n",
      "9  1/1/2012 9:00    -1.3              -3.1         88               15   \n",
      "\n",
      "   Visibility_km  Press_kPa               Weather  \n",
      "0            8.0     101.24                   Fog  \n",
      "1            8.0     101.24                   Fog  \n",
      "2            4.0     101.26  Freezing Drizzle,Fog  \n",
      "3            4.0     101.27  Freezing Drizzle,Fog  \n",
      "4            4.8     101.23                   Fog  \n",
      "5            6.4     101.27                   Fog  \n",
      "6            6.4     101.29                   Fog  \n",
      "7            8.0     101.26                   Fog  \n",
      "8            8.0     101.23                   Fog  \n",
      "9            4.0     101.20                   Fog  \n"
     ]
    }
   ],
   "source": [
    "\n",
    "weather = pd.read_csv(r\"C:\\Users\\resha\\OneDrive\\Desktop\\dsa lab\\weather.csv\")\n",
    "print(weather.head(10))\n",
    "# sns.scatterplot(data=weather, x=\"Date/Time\", y=\"Temp_C\")"
   ]
  },
  {
   "cell_type": "code",
   "execution_count": 10,
   "metadata": {},
   "outputs": [
    {
     "name": "stdout",
     "output_type": "stream",
     "text": [
      "Unique Wind Speed Values:\n",
      "[ 4  7  6  9 15 13 20 22 19 24 30 35 39 32 33 26 44 43 48 37 28 17 11  0\n",
      " 83 70 57 46 41 52 50 63 54  2]\n"
     ]
    }
   ],
   "source": [
    "#all unique wind speed\n",
    "unique_wind_speeds = weather[\"Wind Speed_km/h\"].unique()\n",
    "print(\"Unique Wind Speed Values:\")\n",
    "print(unique_wind_speeds)"
   ]
  },
  {
   "cell_type": "code",
   "execution_count": 11,
   "metadata": {},
   "outputs": [
    {
     "name": "stdout",
     "output_type": "stream",
     "text": [
      "Number of times when the weather is clear: 1326\n"
     ]
    }
   ],
   "source": [
    "# Find the number of times when the 'Weather is exactly Clear'.\n",
    "clear_weather = weather[weather[\"Weather\"] == \"Clear\"].shape[0]\n",
    "print(\"Number of times when the weather is clear:\", clear_weather)"
   ]
  },
  {
   "cell_type": "code",
   "execution_count": 12,
   "metadata": {},
   "outputs": [
    {
     "name": "stdout",
     "output_type": "stream",
     "text": [
      "Number of times when the wind speed is 4 km/h: 474\n"
     ]
    }
   ],
   "source": [
    "#Find the number of times when the 'Wind Speed was exactly 4 km/h'.\n",
    "wind_speed_4_count = weather[weather[\"Wind Speed_km/h\"] == 4].shape[0]\n",
    "print(\"Number of times when the wind speed is 4 km/h:\", wind_speed_4_count)"
   ]
  },
  {
   "cell_type": "code",
   "execution_count": 13,
   "metadata": {},
   "outputs": [
    {
     "name": "stdout",
     "output_type": "stream",
     "text": [
      "Number of null values in each column:\n",
      "Date/Time           0\n",
      "Temp_C              0\n",
      "Dew Point Temp_C    0\n",
      "Rel Hum_%           0\n",
      "Wind Speed_km/h     0\n",
      "Visibility_km       0\n",
      "Press_kPa           0\n",
      "Weather             0\n",
      "dtype: int64\n"
     ]
    }
   ],
   "source": [
    "#Find out all the Null Values in the data.\n",
    "\n",
    "null_values = weather.isnull().sum()\n",
    "print(\"Number of null values in each column:\")\n",
    "print(null_values)"
   ]
  },
  {
   "cell_type": "code",
   "execution_count": 14,
   "metadata": {},
   "outputs": [
    {
     "name": "stdout",
     "output_type": "stream",
     "text": [
      "After changing the name 'weather' to ' Weather Condition' :\n",
      "       Date/Time  Temp_C  Dew Point Temp_C  Rel Hum_%  Wind Speed_km/h  \\\n",
      "0  1/1/2012 0:00    -1.8              -3.9         86                4   \n",
      "1  1/1/2012 1:00    -1.8              -3.7         87                4   \n",
      "2  1/1/2012 2:00    -1.8              -3.4         89                7   \n",
      "3  1/1/2012 3:00    -1.5              -3.2         88                6   \n",
      "4  1/1/2012 4:00    -1.5              -3.3         88                7   \n",
      "\n",
      "   Visibility_km  Press_kPa     Weather Condition  \n",
      "0            8.0     101.24                   Fog  \n",
      "1            8.0     101.24                   Fog  \n",
      "2            4.0     101.26  Freezing Drizzle,Fog  \n",
      "3            4.0     101.27  Freezing Drizzle,Fog  \n",
      "4            4.8     101.23                   Fog  \n"
     ]
    }
   ],
   "source": [
    "#Rename the column name 'Weather' of the dataframe to 'Weather Condition'.\n",
    "weather = weather.rename(columns={\"Weather\": \"Weather Condition\"})\n",
    "print(\"After changing the name 'weather' to ' Weather Condition' :\")\n",
    "print(weather.head())"
   ]
  },
  {
   "cell_type": "code",
   "execution_count": 15,
   "metadata": {},
   "outputs": [
    {
     "name": "stdout",
     "output_type": "stream",
     "text": [
      "Mean Visibility: 27.66 km\n"
     ]
    }
   ],
   "source": [
    "#What is the mean 'Visibility' ?\n",
    "\n",
    "mean_visibility = weather[\"Visibility_km\"].mean()\n",
    "print(\"Mean Visibility: {:.2f} km\".format(mean_visibility))"
   ]
  },
  {
   "cell_type": "code",
   "execution_count": 16,
   "metadata": {},
   "outputs": [
    {
     "name": "stdout",
     "output_type": "stream",
     "text": [
      "Standard Deviation of Pressure: 0.84 kPa\n"
     ]
    }
   ],
   "source": [
    "# What is the Standard Deviation of 'Pressure'  in this data?\n",
    "\n",
    "pressure_std = weather[\"Press_kPa\"].std()\n",
    "print(\"Standard Deviation of Pressure: {:.2f} kPa\".format(pressure_std))"
   ]
  },
  {
   "cell_type": "code",
   "execution_count": 17,
   "metadata": {},
   "outputs": [
    {
     "name": "stdout",
     "output_type": "stream",
     "text": [
      "Variance of Relative Humidity: 286.25%\n"
     ]
    }
   ],
   "source": [
    "#What is the Variance of 'Relative Humidity' in this data ?\n",
    "\n",
    "humidity_variance = weather[\"Rel Hum_%\"].var()\n",
    "print(\"Variance of Relative Humidity: {:.2f}%\".format(humidity_variance))"
   ]
  },
  {
   "cell_type": "code",
   "execution_count": 18,
   "metadata": {},
   "outputs": [
    {
     "name": "stdout",
     "output_type": "stream",
     "text": [
      "Instances when Snow was recorded:\n",
      "             Date/Time  Temp_C  Dew Point Temp_C  Rel Hum_%  Wind Speed_km/h  \\\n",
      "55       1/3/2012 7:00   -14.0             -19.5         63               19   \n",
      "84      1/4/2012 12:00   -13.7             -21.7         51               11   \n",
      "86      1/4/2012 14:00   -11.3             -19.0         53                7   \n",
      "87      1/4/2012 15:00   -10.2             -16.3         61               11   \n",
      "88      1/4/2012 16:00    -9.4             -15.5         61               13   \n",
      "...                ...     ...               ...        ...              ...   \n",
      "8779  12/31/2012 19:00     0.1              -2.7         81               30   \n",
      "8780  12/31/2012 20:00     0.2              -2.4         83               24   \n",
      "8781  12/31/2012 21:00    -0.5              -1.5         93               28   \n",
      "8782  12/31/2012 22:00    -0.2              -1.8         89               28   \n",
      "8783  12/31/2012 23:00     0.0              -2.1         86               30   \n",
      "\n",
      "      Visibility_km  Press_kPa Weather Condition  \n",
      "55             25.0     100.95              Snow  \n",
      "84             24.1     101.25              Snow  \n",
      "86             19.3     100.97              Snow  \n",
      "87              9.7     100.89              Snow  \n",
      "88             19.3     100.79              Snow  \n",
      "...             ...        ...               ...  \n",
      "8779            9.7     100.13              Snow  \n",
      "8780            9.7     100.03              Snow  \n",
      "8781            4.8      99.95              Snow  \n",
      "8782            9.7      99.91              Snow  \n",
      "8783           11.3      99.89              Snow  \n",
      "\n",
      "[390 rows x 8 columns]\n"
     ]
    }
   ],
   "source": [
    "#Find all instances when 'Snow' was recorded.\n",
    "\n",
    "snow_records = weather[weather[\"Weather Condition\"] == \"Snow\"]\n",
    "print(\"Instances when Snow was recorded:\")\n",
    "print(snow_records)"
   ]
  },
  {
   "cell_type": "code",
   "execution_count": 19,
   "metadata": {},
   "outputs": [
    {
     "name": "stdout",
     "output_type": "stream",
     "text": [
      "Instances when Wind Speed is above 24 km/h and Visibility is 25 km:\n",
      "             Date/Time  Temp_C  Dew Point Temp_C  Rel Hum_%  Wind Speed_km/h  \\\n",
      "23      1/1/2012 23:00     5.3               2.0         79               30   \n",
      "24       1/2/2012 0:00     5.2               1.5         77               35   \n",
      "25       1/2/2012 1:00     4.6               0.0         72               39   \n",
      "26       1/2/2012 2:00     3.9              -0.9         71               32   \n",
      "27       1/2/2012 3:00     3.7              -1.5         69               33   \n",
      "...                ...     ...               ...        ...              ...   \n",
      "8705  12/28/2012 17:00    -8.6             -12.0         76               26   \n",
      "8753  12/30/2012 17:00   -12.1             -15.8         74               28   \n",
      "8755  12/30/2012 19:00   -13.4             -16.5         77               26   \n",
      "8759  12/30/2012 23:00   -12.1             -15.1         78               28   \n",
      "8760   12/31/2012 0:00   -11.1             -14.4         77               26   \n",
      "\n",
      "      Visibility_km  Press_kPa Weather Condition  \n",
      "23             25.0      99.31            Cloudy  \n",
      "24             25.0      99.26      Rain Showers  \n",
      "25             25.0      99.26            Cloudy  \n",
      "26             25.0      99.26     Mostly Cloudy  \n",
      "27             25.0      99.30     Mostly Cloudy  \n",
      "...             ...        ...               ...  \n",
      "8705           25.0     101.34      Mainly Clear  \n",
      "8753           25.0     101.26      Mainly Clear  \n",
      "8755           25.0     101.47      Mainly Clear  \n",
      "8759           25.0     101.52     Mostly Cloudy  \n",
      "8760           25.0     101.51            Cloudy  \n",
      "\n",
      "[308 rows x 8 columns]\n"
     ]
    }
   ],
   "source": [
    "#Find all instances when 'Wind Speed is above 24' and 'Visibility is 25'.\n",
    "\n",
    "filtered_instances = weather[(weather[\"Wind Speed_km/h\"] > 24) & (weather[\"Visibility_km\"] == 25)]\n",
    "print(\"Instances when Wind Speed is above 24 km/h and Visibility is 25 km:\")\n",
    "print(filtered_instances)"
   ]
  },
  {
   "cell_type": "code",
   "execution_count": 20,
   "metadata": {},
   "outputs": [
    {
     "name": "stdout",
     "output_type": "stream",
     "text": [
      "Instances when Snow was recorded:\n",
      "             Date/Time  Temp_C  Dew Point Temp_C  Rel Hum_%  Wind Speed_km/h  \\\n",
      "0        1/1/2012 0:00    -1.8              -3.9         86                4   \n",
      "1        1/1/2012 1:00    -1.8              -3.7         87                4   \n",
      "4        1/1/2012 4:00    -1.5              -3.3         88                7   \n",
      "5        1/1/2012 5:00    -1.4              -3.3         87                9   \n",
      "6        1/1/2012 6:00    -1.5              -3.1         89                7   \n",
      "...                ...     ...               ...        ...              ...   \n",
      "8716   12/29/2012 4:00   -16.0             -17.2         90                6   \n",
      "8717   12/29/2012 5:00   -14.8             -15.9         91                4   \n",
      "8718   12/29/2012 6:00   -13.8             -15.3         88                4   \n",
      "8719   12/29/2012 7:00   -14.8             -16.4         88                7   \n",
      "8722  12/29/2012 10:00   -12.0             -13.3         90                7   \n",
      "\n",
      "      Visibility_km  Press_kPa Weather Condition  \n",
      "0               8.0     101.24               Fog  \n",
      "1               8.0     101.24               Fog  \n",
      "4               4.8     101.23               Fog  \n",
      "5               6.4     101.27               Fog  \n",
      "6               6.4     101.29               Fog  \n",
      "...             ...        ...               ...  \n",
      "8716            9.7     101.25               Fog  \n",
      "8717            6.4     101.25               Fog  \n",
      "8718            9.7     101.25               Fog  \n",
      "8719            8.0     101.22               Fog  \n",
      "8722            6.4     101.15               Fog  \n",
      "\n",
      "[150 rows x 8 columns]\n"
     ]
    }
   ],
   "source": [
    "#Show all the Records where Weather Condition is Fog.\n",
    "\n",
    "Fog_records = weather[weather[\"Weather Condition\"] == \"Fog\"]\n",
    "print(\"Instances when Snow was recorded:\")\n",
    "print(Fog_records)"
   ]
  },
  {
   "cell_type": "code",
   "execution_count": 21,
   "metadata": {},
   "outputs": [
    {
     "name": "stdout",
     "output_type": "stream",
     "text": [
      "\n",
      "Rows where Weather Condition is Clear and Visibility is greater than 40:\n",
      "             Date/Time  Temp_C  Dew Point Temp_C  Rel Hum_%  Wind Speed_km/h  \\\n",
      "351    1/15/2012 15:00   -15.4             -22.8         53               24   \n",
      "352    1/15/2012 16:00   -15.1             -22.8         52               24   \n",
      "425    1/18/2012 17:00   -11.3             -18.8         54               26   \n",
      "440     1/19/2012 8:00   -13.7             -18.4         68               19   \n",
      "441     1/19/2012 9:00   -12.7             -17.2         69               17   \n",
      "...                ...     ...               ...        ...              ...   \n",
      "8384   12/15/2012 8:00   -10.7             -15.6         67               13   \n",
      "8385   12/15/2012 9:00   -10.4             -15.9         64               19   \n",
      "8389  12/15/2012 13:00    -8.4             -14.7         60               19   \n",
      "8631  12/25/2012 15:00    -7.1             -13.7         59               17   \n",
      "8632  12/25/2012 16:00    -7.5             -13.9         60               11   \n",
      "\n",
      "      Visibility_km  Press_kPa Weather Condition  \n",
      "351            48.3     102.71             Clear  \n",
      "352            48.3     102.79             Clear  \n",
      "425            48.3     101.54             Clear  \n",
      "440            48.3     101.84             Clear  \n",
      "441            48.3     101.73             Clear  \n",
      "...             ...        ...               ...  \n",
      "8384           48.3     102.69             Clear  \n",
      "8385           48.3     102.74             Clear  \n",
      "8389           48.3     102.64             Clear  \n",
      "8631           48.3     101.98             Clear  \n",
      "8632           48.3     102.03             Clear  \n",
      "\n",
      "[313 rows x 8 columns]\n"
     ]
    }
   ],
   "source": [
    "#Find all instances when 'Weather is Clear' or 'Visibility is above 40'.\n",
    "\n",
    "clear_high_visibility = weather[(weather['Weather Condition'] == 'Clear') & (weather['Visibility_km'] > 40)]\n",
    "print(\"\\nRows where Weather Condition is Clear and Visibility is greater than 40:\")\n",
    "print(clear_high_visibility)"
   ]
  },
  {
   "cell_type": "code",
   "execution_count": 22,
   "metadata": {},
   "outputs": [
    {
     "name": "stdout",
     "output_type": "stream",
     "text": [
      "\n",
      "Rows where Weather Condition is Clear and realative humidity is greater than 50:\n",
      "             Date/Time  Temp_C  Dew Point Temp_C  Rel Hum_%  Wind Speed_km/h  \\\n",
      "67      1/3/2012 19:00   -16.9             -24.8         50               24   \n",
      "114     1/5/2012 18:00    -7.1             -14.4         56               11   \n",
      "115     1/5/2012 19:00    -9.2             -15.4         61                7   \n",
      "116     1/5/2012 20:00    -9.8             -15.7         62                9   \n",
      "117     1/5/2012 21:00    -9.0             -14.8         63               13   \n",
      "...                ...     ...               ...        ...              ...   \n",
      "8646   12/26/2012 6:00   -13.4             -14.8         89                4   \n",
      "8698  12/28/2012 10:00    -6.1              -8.6         82               19   \n",
      "8713   12/29/2012 1:00   -11.9             -13.6         87               11   \n",
      "8714   12/29/2012 2:00   -11.8             -13.1         90               13   \n",
      "8756  12/30/2012 20:00   -13.8             -16.5         80               24   \n",
      "\n",
      "      Visibility_km  Press_kPa Weather Condition  \n",
      "67             25.0     101.74             Clear  \n",
      "114            25.0     100.71             Clear  \n",
      "115            25.0     100.80             Clear  \n",
      "116            25.0     100.83             Clear  \n",
      "117            25.0     100.83             Clear  \n",
      "...             ...        ...               ...  \n",
      "8646           25.0     102.47             Clear  \n",
      "8698           24.1     101.27             Clear  \n",
      "8713           25.0     101.31             Clear  \n",
      "8714           25.0     101.33             Clear  \n",
      "8756           25.0     101.52             Clear  \n",
      "\n",
      "[1089 rows x 8 columns]\n"
     ]
    }
   ],
   "source": [
    "#Weather is Clear' and 'Relative Humidity is greater than 50'\n",
    "\n",
    "gorom_high_visibility = weather[(weather['Weather Condition'] == 'Clear') & (weather['Rel Hum_%'] >= 50)]\n",
    "print(\"\\nRows where Weather Condition is Clear and realative humidity is greater than 50:\")\n",
    "print(gorom_high_visibility)"
   ]
  },
  {
   "cell_type": "code",
   "execution_count": 23,
   "metadata": {},
   "outputs": [
    {
     "name": "stdout",
     "output_type": "stream",
     "text": [
      "\n",
      "Visibility is greater than 40:\n",
      "             Date/Time  Temp_C  Dew Point Temp_C  Rel Hum_%  Wind Speed_km/h  \\\n",
      "106     1/5/2012 10:00    -6.0             -10.0         73               17   \n",
      "107     1/5/2012 11:00    -5.6             -10.2         70               22   \n",
      "108     1/5/2012 12:00    -4.7              -9.6         69               20   \n",
      "109     1/5/2012 13:00    -4.4              -9.7         66               26   \n",
      "110     1/5/2012 14:00    -5.1             -10.7         65               22   \n",
      "...                ...     ...               ...        ...              ...   \n",
      "8748  12/30/2012 12:00   -12.2             -15.7         75               26   \n",
      "8749  12/30/2012 13:00   -12.4             -16.2         73               37   \n",
      "8750  12/30/2012 14:00   -11.8             -16.1         70               37   \n",
      "8751  12/30/2012 15:00   -11.3             -15.6         70               32   \n",
      "8752  12/30/2012 16:00   -11.4             -15.5         72               26   \n",
      "\n",
      "      Visibility_km  Press_kPa Weather Condition  \n",
      "106            48.3     100.45      Mainly Clear  \n",
      "107            48.3     100.41      Mainly Clear  \n",
      "108            48.3     100.38      Mainly Clear  \n",
      "109            48.3     100.40      Mainly Clear  \n",
      "110            48.3     100.46      Mainly Clear  \n",
      "...             ...        ...               ...  \n",
      "8748           48.3     100.91     Mostly Cloudy  \n",
      "8749           48.3     100.92     Mostly Cloudy  \n",
      "8750           48.3     100.96      Mainly Clear  \n",
      "8751           48.3     101.05      Mainly Clear  \n",
      "8752           48.3     101.15      Mainly Clear  \n",
      "\n",
      "[2014 rows x 8 columns]\n"
     ]
    }
   ],
   "source": [
    "word_high_visibility = weather[(weather['Visibility_km'] > 40)]\n",
    "print(\"\\nVisibility is greater than 40:\")\n",
    "print(word_high_visibility)"
   ]
  },
  {
   "cell_type": "code",
   "execution_count": 24,
   "metadata": {},
   "outputs": [],
   "source": [
    "#What is the Mean value of each column against each 'Weather Condition ?\n",
    "\n",
    "\n",
    "max_min_each = weather.groupby(\"Weather\").agg(['min','max'])\n",
    "print(max_min_each)"
   ]
  },
  {
   "cell_type": "code",
   "execution_count": null,
   "metadata": {},
   "outputs": [],
   "source": [
    "#What is the Minimum & Maximum value of each column against each 'Weather Condition ?\n",
    "max_min_each=weather.groupby(\"Weather\").agg(['min','max'])\n",
    "print(max_min_each)"
   ]
  }
 ],
 "metadata": {
  "kernelspec": {
   "display_name": "Python 3",
   "language": "python",
   "name": "python3"
  },
  "language_info": {
   "codemirror_mode": {
    "name": "ipython",
    "version": 3
   },
   "file_extension": ".py",
   "mimetype": "text/x-python",
   "name": "python",
   "nbconvert_exporter": "python",
   "pygments_lexer": "ipython3",
   "version": "3.11.8"
  },
  "orig_nbformat": 4
 },
 "nbformat": 4,
 "nbformat_minor": 2
}
